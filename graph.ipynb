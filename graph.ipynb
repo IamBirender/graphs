{
 "cells": [
  {
   "cell_type": "code",
   "execution_count": 2,
   "metadata": {},
   "outputs": [
    {
     "data": {
      "text/html": [
       "<style>.container { width:100% !important; }</style>"
      ],
      "text/plain": [
       "<IPython.core.display.HTML object>"
      ]
     },
     "metadata": {},
     "output_type": "display_data"
    }
   ],
   "source": [
    "from IPython.core.display import display, HTML\n",
    "display(HTML(\"<style>.container { width:100% !important; }</style>\"))"
   ]
  },
  {
   "cell_type": "markdown",
   "metadata": {},
   "source": [
    "### Common Graph Theory Problems\n",
    "\n",
    "\n",
    "\n",
    "1. Shortest Path problem: Given a weighted graph, find the shortest path of edges from node A to node B. \n",
    "<br> Algorithms: BFS(unweighted graph), Dijkstra's, Bellman-ford, Floyd-Warshall, A*, and many more\n",
    "\n",
    "2. Connectivity: if there exist a path between node A and node B?\n",
    "<br> Algorithms: Use union find data structure or any search algorithm (e.g. DFS)\n",
    "\n",
    "3. Negative Cycles: Does my weighted digraph have any negative cycles? If so, where?\n",
    "<br> Algorithms: Bellman-Ford and Floyd-warshall\n",
    "\n",
    "4. Strongly Connected components:can be thought of as self-contained cycles within a directed graph where every vertex in a given cycle can reach every other vertex in the same cycle.\n",
    "<br> Algorithms: Tarjan's and Kosaraju's algorithm\n",
    "\n",
    "5. Traveling Salesman Problem: Given a list of cities and the distances between each pair of cities, what is the shortest possible route that visits each city exactly once and returns to the origin city?\n",
    "<br> Algorithms: Held-Karp, branch and bound and many approximation algorithms\n",
    "\n",
    "6. Bridges: A bridge/cut edge is any edge in a graph whose removal increases the number of connected components. \n",
    "<br> explanation: Bridges are important in graph theory because they often hint at weak points, bottlenecks or vulnerabilities in a graph\n",
    "\n",
    "7. Articulation points: An articulation point/ cut vertex is any node in a graph whose removal increases the number of connected components.\n",
    "<br> explanation: Articulation points are important in graph theory because they often hint at weak points, bottlenecks, or vulneratbilities in a graph.\n",
    "\n",
    "8. Minimum spanning tree(MST): A minimum spanning tree(MST) is a subset of the edges of a connected, edge-weighted graph that connects all the vertices together, without any cycles and with the minimum possible total edge weight. \n",
    "<br> Algorithms: Kruskal's, Prim's & Boruvka's algorithm\n",
    "\n",
    "9. Network flow: max flow - with an infinite input source how much \"flow\" can we push through the network?\n",
    "<br> Explanation: Suppose the edges are roads with cars, pipes with water or hallways with packed with people. Flow represents the volume of water allowed to flow through the pipes, the number of cars the roads can sustain in traffic and the maximum amount of people that can navigate through the hallways. \n",
    "<br> Algorithms: Ford-Fulkerson, Edmonds-Karp and Dinic's algorithm"
   ]
  },
  {
   "cell_type": "markdown",
   "metadata": {},
   "source": [
    "## DFS Overview\n",
    "The Depth First Search (DFS) is the most fundamental search algorithm used to explore nodes and edges of a graph. It runs with a time complexity of O(V+E) and is often used as a building block in other alogorithms. By itself the DFS isn't all that useful, but when augmented to perform other tasks such as count connected components, determine connectivity, or find bridges/articulation points then DFS really shines. \n",
    "\n",
    "### what else can DFS do?\n",
    "\n",
    "we can augment the DFS algorithm to :\n",
    "- compute a graph's minimum spanning tree.\n",
    "- Detect and find cycles in a graph.\n",
    "- Check if a graph is bipartite.\n",
    "- Find strongly connected components.\n",
    "- Topologically sort the nodes of a graph. \n",
    "- Find bridges and articulation points. \n",
    "- Find augmenting paths in a flow network. \n",
    "- Generate mazes."
   ]
  },
  {
   "cell_type": "code",
   "execution_count": null,
   "metadata": {},
   "outputs": [],
   "source": [
    "#quesitons \n",
    "Graph = {0:[1,9],1:[0,8], 2:[3], 3:[2, 4, 5, 7], 4:[3], 5:[3,6],6:[7,5], 7:[10,11, 3, 6, 8], 8:[1,9,7],9:[0,8],10:[11,7],11:[7,10],12:[]}\n",
    "# Graph"
   ]
  },
  {
   "cell_type": "code",
   "execution_count": null,
   "metadata": {},
   "outputs": [],
   "source": [
    "class solution(object):\n",
    "    def __init__(self, n, g):\n",
    "        self.n = n\n",
    "        self.g = g\n",
    "        self.visited = [False for i in range(n)]\n",
    "    \n",
    "    def dfs(self, at):\n",
    "        if self.visited[at]:\n",
    "            return \n",
    "        \n",
    "        self.visited[at] = True\n",
    "        \n",
    "        neighbors = self.g[at]\n",
    "        for next in neighbors:\n",
    "            self.dfs(next)\n",
    "        \n",
    "n = 13\n",
    "Graph = {0:[1,9],1:[0,8], 2:[3], 3:[2, 4, 5, 7], 4:[3], 5:[3,6],6:[7,5], 7:[10,11, 3, 6, 8], 8:[1,9,7],9:[0,8],10:[11,7],11:[7,10], 12:[]}\n",
    "DFS = solution(n, Graph)\n",
    "DFS.dfs(0)\n",
    "DFS.visited\n",
    "# problems could be - Connected components - sometimes a graph is split into multiple components. It's useful to be able to identify and count these components"
   ]
  },
  {
   "cell_type": "markdown",
   "metadata": {},
   "source": [
    "## BFS overview\n",
    "The breadth First Search (BFS) is another fundamental search algorithm used to explore nodes and edges of a graph. It runs with a time complexity of O(V+E) and is often used as a building block in other algorithms. The BFS algorithm is particularly useful for one thing: finding the shortest path on unweighted graphs. \n",
    "\n",
    "A BFS starts at some arbitrary node of a graph and explores the neighbour nodes first, before moving to the next level neightbours. \n",
    "\n",
    "The BFS algorithm uses a queue data structure to track which node to visit next. Upon reaching a new node the algorithm adds it to the queue to visit it later. The queue data structure works just like a real world queue such as a waiting line at a restaurant. People can either enter the waiting line (enque) or get seated (dequeue).\n"
   ]
  },
  {
   "cell_type": "code",
   "execution_count": 69,
   "metadata": {},
   "outputs": [
    {
     "name": "stdout",
     "output_type": "stream",
     "text": [
      "defaultdict(<class 'list'>, {'A': ['B', 'E', 'C'], 'B': ['A', 'D', 'E'], 'E': ['A', 'B', 'D'], 'C': ['A', 'F', 'G'], 'D': ['B', 'E'], 'F': ['C'], 'G': ['C']})\n"
     ]
    }
   ],
   "source": [
    "#Building a graph\n",
    "from collections import defaultdict\n",
    "\n",
    "def build_graph():\n",
    "    edges = [[\"A\",\"B\"], [\"A\",\"E\"], [\"A\",\"C\"], [\"B\",\"D\"], [\"B\",\"E\"], [\"C\",\"F\"], [\"C\",\"G\"], [\"D\",\"E\"]]\n",
    "    graph = defaultdict(list)\n",
    "    \n",
    "    for edge in edges:\n",
    "        a, b = edge\n",
    "        graph[a].append(b)\n",
    "        graph[b].append(a)\n",
    "    return graph\n",
    "\n",
    "graph = build_graph()\n",
    "print(graph)"
   ]
  },
  {
   "cell_type": "markdown",
   "metadata": {},
   "source": [
    "### Shortest path\n",
    "The idea is to use queue and visit every adjacent node of the starting nodes that is traverse the graph in Breadth-First Search manner to find the shortest path between two nodes of the graph. \n"
   ]
  },
  {
   "cell_type": "code",
   "execution_count": 70,
   "metadata": {},
   "outputs": [
    {
     "name": "stdout",
     "output_type": "stream",
     "text": [
      "Shortest path =  D B A C G\n"
     ]
    }
   ],
   "source": [
    "from queue import Queue\n",
    "class shortestPath(object):\n",
    "    def __init__(self, graph):\n",
    "        self.graph = graph\n",
    "        self.explored = set()\n",
    "        self.queue = Queue()\n",
    "        \n",
    "    def BFS_SP(self, start, goal):\n",
    "        self.queue.put(start)\n",
    "\n",
    "        if start == goal:\n",
    "            print(\"Same node\")\n",
    "            return \n",
    "\n",
    "        while not self.queue.empty():\n",
    "            path = self.queue.get()\n",
    "            node = path[-1]\n",
    "\n",
    "            if node not in self.explored:\n",
    "                neighbours = self.graph[node]\n",
    "\n",
    "                for neighbour in neighbours:\n",
    "                    new_path = list(path)\n",
    "                    new_path.append(neighbour)\n",
    "                    self.queue.put(new_path)\n",
    "\n",
    "                    if neighbour == goal:\n",
    "                        print(\"Shortest path = \", new_path)\n",
    "                        return \n",
    "                self.explored.add(node)\n",
    "        print(\"No path exists\")\n",
    "        return \n",
    "\n",
    "BFS_SP(graph, \"D\",\"G\")\n",
    "        "
   ]
  },
  {
   "cell_type": "markdown",
   "metadata": {},
   "source": [
    "### Topological Sort\n",
    "Many real world situations can be modelled as a graph with directed edges where some events must occur before others.\n",
    "\n",
    "- School class prerequisites\n",
    "- Program dependencies\n",
    "- Event Scheduling.\n",
    "- Assembly instructions\n",
    "\n",
    "Another canonical example where an ordering on the nodes of the graph matters is for program build dependencies. A program cannot be built unless its dependencies are first built.\n",
    "\n",
    "A topological ordering is an ordering of the nodes in a directed graph where for each directed edge from node A to node B, node A appears before node B in the ordering.\n",
    "\n",
    "The topological sort algorithm can find a topological ordering in O(V+E) time!\n",
    "\n",
    "Note: Topological orderings are not unique\n",
    "\n",
    "### Directed Acyclic Graphs(DAG)\n",
    "The only type of graph which has a valid topological ordering is a Directed Acyclic Graph (DAG), These are graphs with directed edges and no cycles\n",
    "\n",
    "- How do I verify that my graph does not contain a directed cycle?\n",
    "<br> One method is to use Tarjan's strongly connected component algorithm which can be used to find these cycles. \n",
    "\n",
    "Algorithm:\n",
    "\n",
    "1. Pick an unvisited node.\n",
    "2. Begining with the selected node, do a Depth First Search (DFS) exploring only unvisited nodes. \n",
    "3. On the recursive callback of the DFS, add the current node to the topological ordering in reverse order. "
   ]
  },
  {
   "cell_type": "code",
   "execution_count": 50,
   "metadata": {},
   "outputs": [
    {
     "name": "stdout",
     "output_type": "stream",
     "text": [
      "[5, 4, 2, 3, 1, 0]\n"
     ]
    }
   ],
   "source": [
    "from collections import defaultdict\n",
    "\n",
    "class Graph:\n",
    "    def __init__(self, vertices):\n",
    "        self.graph = defaultdict(list) # dictionary containing adjacency list\n",
    "        self.V = vertices # No. of vertices\n",
    "        \n",
    "    #function to add an edge to a graph\n",
    "    def addEdge(self, u, v):\n",
    "        self.graph[u].append(v)\n",
    "    \n",
    "    # A recursive function used by topological sort\n",
    "    def topologicalSortUtil(self, v, visited, stack):\n",
    "        \n",
    "        # Mark all the vertices as not visited \n",
    "        visited[v] = True\n",
    "        \n",
    "        for i in self.graph[v]:\n",
    "            if visited[i] == False:\n",
    "                self.topologicalSortUtil(i, visited, stack)\n",
    "                \n",
    "        #Push current vertex to stack and stores result\n",
    "        stack.append(v)\n",
    "    \n",
    "    #The function to do Topological sort. It uses recursive topologicalSortUtil()\n",
    "    def topologicalSort(self):\n",
    "        # Mark all the vertices as not visited\n",
    "        visited = [False]*self.V\n",
    "        stack = []\n",
    "        \n",
    "        #Call the recursive helper function to store Topological Sort starting form all the vertices one by one. \n",
    "        \n",
    "        for i in range(self.V):\n",
    "            if visited[i] == False:\n",
    "                self.topologicalSortUtil(i, visited, stack)\n",
    "        #Print contents of the stack \n",
    "        print(stack[::-1])\n",
    "\n",
    "g = Graph(6)\n",
    "g.addEdge(5,2)\n",
    "g.addEdge(5,0)\n",
    "g.addEdge(4,0)\n",
    "g.addEdge(4,1)\n",
    "g.addEdge(2,3)\n",
    "g.addEdge(3,1)\n",
    "\n",
    "g.topologicalSort()\n",
    "        "
   ]
  },
  {
   "cell_type": "markdown",
   "metadata": {},
   "source": [
    "### What is Dijkstra's algorithm?\n",
    "Dijkstra's algorithm is a single source shortest path(SSSP) algorithm for graphs with non-negative edge weights.\n",
    "\n",
    "Depending on how the algorithm is implemented and what data structures are used the time complexity is typically O(E*log(V)) which is competitive against other shortest path algorithms.\n",
    "\n",
    "Algorithm prerequisites:\n",
    "One constraint for Dijkstra's algorithm is that the graph must only contain non-negative edge weights. This constraint is imposed to ensure that once a node has been visited its optimal distance cannot be improved. \n",
    "\n",
    "This is property is especially important because it enables Dijkstra's algorithm to act in a greedy manner by always selecting the next most promising node. \n",
    "\n",
    "### algorithm\n",
    "\n",
    "Maintain a 'dist' array where the distance to every node is positive infinity. Mark the distance to the start node 's' to be 0. \n",
    "\n",
    "Maintain a PQ of key-value pairs of (node index, distance) pairs which tell you which node to visit next based on sorted min value. \n",
    "\n",
    "Insert (s, 0) into the PQ and loop while PQ is not empty pulling out the next most promising (node index, distance) pair. \n",
    "\n",
    "Iterate over all edges outwards from the current node and relax each edge appending a new (node index, distance) key-value pari to the PQ for every relaxation"
   ]
  },
  {
   "cell_type": "code",
   "execution_count": 68,
   "metadata": {},
   "outputs": [
    {
     "name": "stdout",
     "output_type": "stream",
     "text": [
      "{'U': 1, 'V': 2, 'W': 2, 'X': 0, 'Y': 1, 'Z': 2}\n"
     ]
    }
   ],
   "source": [
    "import heapq\n",
    "\n",
    "class Dijkstra(object):\n",
    "    def __init__(self, graph, start_v):\n",
    "        self.dist = {vertex: float(\"inf\") for vertex in graph.keys()}\n",
    "        self.dist[start_v] = 0\n",
    "        self.pq = [(0, start_v)]\n",
    "        self.graph = graph\n",
    "    \n",
    "    def _get_shortest_path(self):\n",
    "        \n",
    "        #Nodes can get added to the priority queue multiple times. We process a vertex the first time we remove it from\n",
    "        # from the priority queue. \n",
    "        while len(self.pq) > 0:\n",
    "            curr_dist, curr_vert = heapq.heappop(self.pq)\n",
    "            if curr_dist > self.dist[curr_vert]:\n",
    "                continue\n",
    "\n",
    "            for neighbour, weight in self.graph[curr_vert].items():\n",
    "                distance = curr_dist + weight\n",
    "\n",
    "                # Only consider this new path if it's better than any path already found\n",
    "                if distance < self.dist[neighbour]:\n",
    "                    self.dist[neighbour] = distance\n",
    "                    heapq.heappush(self.pq, (distance, neighbour))\n",
    "        return self.dist\n",
    "        \n",
    "    \n",
    "graph = {\n",
    "    'U':{'V':2, 'W':5, 'X':1},\n",
    "    'V':{'U':2, 'X':2, 'W':3},\n",
    "    'W':{'V':3, 'U':5, 'X':3, 'Y':1, 'Z':5},\n",
    "    'X':{'U':1, 'V':2, 'W':3 , 'Y':1},\n",
    "    'Y':{'X':1, 'W':1, 'Z':1},\n",
    "    'Z':{'W':5, 'Y':1}\n",
    "}\n",
    "d = Dijkstra(graph, 'X')\n",
    "print(d._get_shortest_path())\n",
    "# d._get_shortest_path()"
   ]
  },
  {
   "cell_type": "markdown",
   "metadata": {},
   "source": [
    "### Traveling salesman Problem (TSP)\n",
    "Given a set of cities and distances between everypair of cities, the problem is to find the shortest possible route that visits every pair of cities, the probelms is to find the shortest possible route that visits every city exactly once and returns to the starting point. \n",
    "The difference between Hamiltonian cycle and TSP. The Hamiltonian cycle problem is to find if there exists a tour that visits every city exactly once. Here we know that Hamiltonian Tour exists (because the graph is complete) and in fact many such tours exist, the problem is to find a minimum weight Hamiltonian Cycle. "
   ]
  },
  {
   "cell_type": "code",
   "execution_count": 73,
   "metadata": {},
   "outputs": [
    {
     "name": "stdout",
     "output_type": "stream",
     "text": [
      "80\n"
     ]
    }
   ],
   "source": [
    "from itertools import permutations\n",
    "V=4\n",
    "def travellingSalesmanProblem(graph, s):\n",
    "    vertex = list()\n",
    "    for i in range(V):\n",
    "        if i != s:\n",
    "            vertex.append(i)\n",
    "    # store minimum weight Hamiltonian Cycle\n",
    "    min_path = float(\"inf\")\n",
    "    next_permutation = permutations(vertex)\n",
    "    for i in next_permutation:\n",
    "        current_pathweight = 0\n",
    "        \n",
    "        k = s\n",
    "        for j in i:\n",
    "            current_pathweight += graph[k][j]\n",
    "            k = j\n",
    "        current_pathweight += graph[k][s]\n",
    "        min_path = min(min_path, current_pathweight)\n",
    "    return min_path\n",
    "\n",
    "graph = [[0, 10, 15, 20], [10, 0, 35, 25], \n",
    "            [15, 35, 0, 30], [20, 25, 30, 0]] \n",
    "s = 0\n",
    "print(travellingSalesmanProblem(graph, s))"
   ]
  },
  {
   "cell_type": "code",
   "execution_count": null,
   "metadata": {},
   "outputs": [],
   "source": []
  },
  {
   "cell_type": "code",
   "execution_count": null,
   "metadata": {},
   "outputs": [],
   "source": []
  },
  {
   "cell_type": "code",
   "execution_count": null,
   "metadata": {},
   "outputs": [],
   "source": []
  },
  {
   "cell_type": "code",
   "execution_count": null,
   "metadata": {},
   "outputs": [],
   "source": []
  },
  {
   "cell_type": "code",
   "execution_count": null,
   "metadata": {},
   "outputs": [],
   "source": []
  },
  {
   "cell_type": "code",
   "execution_count": null,
   "metadata": {},
   "outputs": [],
   "source": []
  },
  {
   "cell_type": "code",
   "execution_count": null,
   "metadata": {},
   "outputs": [],
   "source": []
  },
  {
   "cell_type": "code",
   "execution_count": null,
   "metadata": {},
   "outputs": [],
   "source": []
  },
  {
   "cell_type": "code",
   "execution_count": null,
   "metadata": {},
   "outputs": [],
   "source": []
  },
  {
   "cell_type": "code",
   "execution_count": null,
   "metadata": {},
   "outputs": [],
   "source": []
  },
  {
   "cell_type": "code",
   "execution_count": null,
   "metadata": {},
   "outputs": [],
   "source": []
  },
  {
   "cell_type": "code",
   "execution_count": null,
   "metadata": {},
   "outputs": [],
   "source": []
  },
  {
   "cell_type": "code",
   "execution_count": null,
   "metadata": {},
   "outputs": [],
   "source": []
  },
  {
   "cell_type": "code",
   "execution_count": null,
   "metadata": {},
   "outputs": [],
   "source": []
  }
 ],
 "metadata": {
  "kernelspec": {
   "display_name": "Python 3",
   "language": "python",
   "name": "python3"
  },
  "language_info": {
   "codemirror_mode": {
    "name": "ipython",
    "version": 3
   },
   "file_extension": ".py",
   "mimetype": "text/x-python",
   "name": "python",
   "nbconvert_exporter": "python",
   "pygments_lexer": "ipython3",
   "version": "3.7.1"
  }
 },
 "nbformat": 4,
 "nbformat_minor": 2
}
